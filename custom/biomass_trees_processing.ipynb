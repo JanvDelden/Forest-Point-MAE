{
 "cells": [
  {
   "cell_type": "code",
   "execution_count": 1,
   "metadata": {},
   "outputs": [
    {
     "name": "stdout",
     "output_type": "stream",
     "text": [
      "[Warning] Since Open3D 0.15, installing Open3D via conda is deprecated. Please re-install Open3D via: `pip install open3d -U`.\n",
      "Jupyter environment detected. Enabling Open3D WebVisualizer.\n",
      "[Open3D INFO] WebRTC GUI backend enabled.\n",
      "[Open3D INFO] WebRTCWindowSystem: HTTP handshake server disabled.\n"
     ]
    }
   ],
   "source": [
    "import numpy as np\n",
    "import pandas as pd\n",
    "\n",
    "import os   \n",
    "import open3d as o3d\n",
    "import re\n",
    "import matplotlib.pyplot as plt"
   ]
  },
  {
   "cell_type": "code",
   "execution_count": 2,
   "metadata": {},
   "outputs": [],
   "source": [
    "biomass = np.loadtxt(\"../data/biomass/biomass.txt\", dtype=str)\n",
    "biomass = np.array([string.replace(\",\", \".\") for string in biomass])\n",
    "biomass = biomass.astype(float)\n",
    "path = \"../data/biomass/biomass.npy\"\n",
    "np.save(path, biomass)"
   ]
  },
  {
   "cell_type": "code",
   "execution_count": 3,
   "metadata": {},
   "outputs": [
    {
     "data": {
      "image/png": "[encoded data removed]",
      "text/plain": [
       "<Figure size 640x480 with 1 Axes>"
      ]
     },
     "metadata": {},
     "output_type": "display_data"
    }
   ],
   "source": [
    "plt.hist(np.log(biomass), bins=10)\n",
    "plt.savefig(fname=\"plot/biomass_hist\",format=\"svg\", bbox_inches=\"tight\")"
   ]
  },
  {
   "cell_type": "code",
   "execution_count": 4,
   "metadata": {},
   "outputs": [],
   "source": [
    "biomass = np.log(biomass)\n",
    "mean_logmass = biomass.mean()\n",
    "std_logmass = biomass.std()\n",
    "biomass = (biomass - biomass.mean()) / biomass.std()"
   ]
  },
  {
   "cell_type": "code",
   "execution_count": 5,
   "metadata": {},
   "outputs": [
    {
     "data": {
      "text/plain": [
       "1.0"
      ]
     },
     "execution_count": 5,
     "metadata": {},
     "output_type": "execute_result"
    }
   ],
   "source": [
    "biomass.std()"
   ]
  },
  {
   "cell_type": "code",
   "execution_count": 6,
   "metadata": {},
   "outputs": [],
   "source": [
    "dir = \"../data/biomass/trees\"\n",
    "samples_list = os.listdir(dir)\n",
    "sample_numbers = [re.findall(r'\\d+', sample)  for sample in samples_list]\n",
    "sample_numbers = [int(sample[0]) for sample in sample_numbers]\n",
    "sort_idx = np.array(sample_numbers).argsort()\n",
    "samples_list = [os.path.join(dir, sample) for sample in samples_list]\n",
    "samples_list = np.array(samples_list)[sort_idx]"
   ]
  },
  {
   "cell_type": "code",
   "execution_count": 7,
   "metadata": {},
   "outputs": [],
   "source": [
    "VAL=1000\n",
    "def voxelize(points, voxelsize=0.10):\n",
    "    pcd = o3d.geometry.PointCloud()\n",
    "    pcd.points = o3d.utility.Vector3dVector(points)\n",
    "    #print(f\"Voxelize the point cloud with a voxel size of {voxelsize}\")\n",
    "    min_bound, max_bound = np.array([-VAL, -VAL, -VAL]), np.array([VAL, VAL, VAL])\n",
    "    downpcd, _, idx = pcd.voxel_down_sample_and_trace(voxelsize, min_bound, max_bound)\n",
    "    print(f\"Previous size: {points.shape[0]}, new size {np.asarray(downpcd.points).shape[0]}\")\n",
    "    return np.array(downpcd.points)"
   ]
  },
  {
   "cell_type": "code",
   "execution_count": 16,
   "metadata": {},
   "outputs": [
    {
     "name": "stdout",
     "output_type": "stream",
     "text": [
      "Voxelize the point cloud with a voxel size of 0.1\n",
      "Previous size: 275462, new size 43036\n"
     ]
    },
    {
     "name": "stderr",
     "output_type": "stream",
     "text": [
      "/user/jschnei2/miniconda3/envs/pointmae/lib/python3.7/site-packages/numpy/lib/npyio.py:528: VisibleDeprecationWarning: Creating an ndarray from ragged nested sequences (which is a list-or-tuple of lists-or-tuples-or ndarrays with different lengths or shapes) is deprecated. If you meant to do this, you must specify 'dtype=object' when creating the ndarray.\n",
      "  arr = np.asanyarray(arr)\n"
     ]
    },
    {
     "name": "stdout",
     "output_type": "stream",
     "text": [
      "Voxelize the point cloud with a voxel size of 0.1\n",
      "Previous size: 193131, new size 32671\n",
      "Voxelize the point cloud with a voxel size of 0.1\n",
      "Previous size: 107474, new size 16222\n",
      "Voxelize the point cloud with a voxel size of 0.1\n",
      "Previous size: 303973, new size 50123\n",
      "Voxelize the point cloud with a voxel size of 0.1\n",
      "Previous size: 183074, new size 29731\n",
      "Voxelize the point cloud with a voxel size of 0.1\n",
      "Previous size: 157271, new size 20652\n",
      "Voxelize the point cloud with a voxel size of 0.1\n",
      "Previous size: 182149, new size 25355\n",
      "Voxelize the point cloud with a voxel size of 0.1\n",
      "Previous size: 166658, new size 26176\n",
      "Voxelize the point cloud with a voxel size of 0.1\n",
      "Previous size: 225338, new size 32970\n",
      "Voxelize the point cloud with a voxel size of 0.1\n",
      "Previous size: 156709, new size 19082\n",
      "Voxelize the point cloud with a voxel size of 0.1\n",
      "Previous size: 309798, new size 46900\n",
      "Voxelize the point cloud with a voxel size of 0.1\n",
      "Previous size: 193598, new size 26095\n",
      "Voxelize the point cloud with a voxel size of 0.1\n",
      "Previous size: 368778, new size 42340\n",
      "Voxelize the point cloud with a voxel size of 0.1\n",
      "Previous size: 173182, new size 24195\n",
      "Voxelize the point cloud with a voxel size of 0.1\n",
      "Previous size: 169896, new size 21263\n",
      "Voxelize the point cloud with a voxel size of 0.1\n",
      "Previous size: 150197, new size 18756\n",
      "Voxelize the point cloud with a voxel size of 0.1\n",
      "Previous size: 220701, new size 40431\n",
      "Voxelize the point cloud with a voxel size of 0.1\n",
      "Previous size: 314980, new size 53942\n",
      "Voxelize the point cloud with a voxel size of 0.1\n",
      "Previous size: 143535, new size 24135\n",
      "Voxelize the point cloud with a voxel size of 0.1\n",
      "Previous size: 102799, new size 9069\n",
      "Voxelize the point cloud with a voxel size of 0.1\n",
      "Previous size: 127731, new size 19317\n",
      "Voxelize the point cloud with a voxel size of 0.1\n",
      "Previous size: 145460, new size 23945\n",
      "Voxelize the point cloud with a voxel size of 0.1\n",
      "Previous size: 122098, new size 16324\n",
      "Voxelize the point cloud with a voxel size of 0.1\n",
      "Previous size: 138600, new size 16356\n",
      "Voxelize the point cloud with a voxel size of 0.1\n",
      "Previous size: 363373, new size 68196\n",
      "Voxelize the point cloud with a voxel size of 0.1\n",
      "Previous size: 252946, new size 47766\n",
      "Voxelize the point cloud with a voxel size of 0.1\n",
      "Previous size: 258899, new size 30778\n",
      "Voxelize the point cloud with a voxel size of 0.1\n",
      "Previous size: 304283, new size 25924\n",
      "Voxelize the point cloud with a voxel size of 0.1\n",
      "Previous size: 170074, new size 23109\n",
      "Voxelize the point cloud with a voxel size of 0.1\n",
      "Previous size: 203872, new size 30092\n",
      "Voxelize the point cloud with a voxel size of 0.1\n",
      "Previous size: 112020, new size 12366\n",
      "Voxelize the point cloud with a voxel size of 0.1\n",
      "Previous size: 306553, new size 41995\n",
      "Voxelize the point cloud with a voxel size of 0.1\n",
      "Previous size: 173610, new size 24361\n",
      "Voxelize the point cloud with a voxel size of 0.1\n",
      "Previous size: 335355, new size 38193\n",
      "Voxelize the point cloud with a voxel size of 0.1\n",
      "Previous size: 110934, new size 16176\n",
      "Voxelize the point cloud with a voxel size of 0.1\n",
      "Previous size: 548056, new size 72178\n",
      "Voxelize the point cloud with a voxel size of 0.1\n",
      "Previous size: 281965, new size 39872\n",
      "Voxelize the point cloud with a voxel size of 0.1\n",
      "Previous size: 548739, new size 81820\n",
      "Voxelize the point cloud with a voxel size of 0.1\n",
      "Previous size: 478539, new size 60116\n",
      "Voxelize the point cloud with a voxel size of 0.1\n",
      "Previous size: 231145, new size 27516\n",
      "Voxelize the point cloud with a voxel size of 0.1\n",
      "Previous size: 183031, new size 23684\n",
      "Voxelize the point cloud with a voxel size of 0.1\n",
      "Previous size: 223244, new size 36918\n",
      "Voxelize the point cloud with a voxel size of 0.1\n",
      "Previous size: 206759, new size 21907\n",
      "Voxelize the point cloud with a voxel size of 0.1\n",
      "Previous size: 233294, new size 22436\n",
      "Voxelize the point cloud with a voxel size of 0.1\n",
      "Previous size: 189889, new size 21412\n",
      "Voxelize the point cloud with a voxel size of 0.1\n",
      "Previous size: 310675, new size 41662\n",
      "Voxelize the point cloud with a voxel size of 0.1\n",
      "Previous size: 367510, new size 38746\n",
      "Voxelize the point cloud with a voxel size of 0.1\n",
      "Previous size: 159940, new size 16927\n",
      "Voxelize the point cloud with a voxel size of 0.1\n",
      "Previous size: 174554, new size 25619\n",
      "Voxelize the point cloud with a voxel size of 0.1\n",
      "Previous size: 186674, new size 23780\n",
      "Voxelize the point cloud with a voxel size of 0.1\n",
      "Previous size: 157154, new size 24830\n",
      "Voxelize the point cloud with a voxel size of 0.1\n",
      "Previous size: 296937, new size 43852\n",
      "Voxelize the point cloud with a voxel size of 0.1\n",
      "Previous size: 225847, new size 35149\n",
      "Voxelize the point cloud with a voxel size of 0.1\n",
      "Previous size: 147960, new size 24396\n",
      "Voxelize the point cloud with a voxel size of 0.1\n",
      "Previous size: 127505, new size 16064\n",
      "Voxelize the point cloud with a voxel size of 0.1\n",
      "Previous size: 269956, new size 35984\n",
      "Voxelize the point cloud with a voxel size of 0.1\n",
      "Previous size: 144784, new size 26050\n",
      "Voxelize the point cloud with a voxel size of 0.1\n",
      "Previous size: 159507, new size 17307\n",
      "Voxelize the point cloud with a voxel size of 0.1\n",
      "Previous size: 336984, new size 58545\n",
      "Voxelize the point cloud with a voxel size of 0.1\n",
      "Previous size: 105635, new size 11717\n",
      "Voxelize the point cloud with a voxel size of 0.1\n",
      "Previous size: 377082, new size 39785\n",
      "Voxelize the point cloud with a voxel size of 0.1\n",
      "Previous size: 210004, new size 32369\n",
      "Voxelize the point cloud with a voxel size of 0.1\n",
      "Previous size: 200030, new size 28704\n",
      "Voxelize the point cloud with a voxel size of 0.1\n",
      "Previous size: 123280, new size 12717\n",
      "Voxelize the point cloud with a voxel size of 0.1\n",
      "Previous size: 175602, new size 11744\n",
      "Voxelize the point cloud with a voxel size of 0.1\n",
      "Previous size: 81145, new size 6539\n",
      "Voxelize the point cloud with a voxel size of 0.1\n",
      "Previous size: 166087, new size 11612\n",
      "Voxelize the point cloud with a voxel size of 0.1\n",
      "Previous size: 126880, new size 10025\n",
      "Voxelize the point cloud with a voxel size of 0.1\n",
      "Previous size: 144218, new size 10085\n",
      "Voxelize the point cloud with a voxel size of 0.1\n",
      "Previous size: 48267, new size 4053\n",
      "Voxelize the point cloud with a voxel size of 0.1\n",
      "Previous size: 54544, new size 6150\n",
      "Voxelize the point cloud with a voxel size of 0.1\n",
      "Previous size: 32702, new size 3670\n",
      "Voxelize the point cloud with a voxel size of 0.1\n",
      "Previous size: 23663, new size 1860\n",
      "Voxelize the point cloud with a voxel size of 0.1\n",
      "Previous size: 18184, new size 1793\n",
      "Voxelize the point cloud with a voxel size of 0.1\n",
      "Previous size: 19590, new size 2393\n",
      "Voxelize the point cloud with a voxel size of 0.1\n",
      "Previous size: 22041, new size 1418\n",
      "Voxelize the point cloud with a voxel size of 0.1\n",
      "Previous size: 18169, new size 1706\n",
      "Voxelize the point cloud with a voxel size of 0.1\n",
      "Previous size: 8306, new size 542\n",
      "Voxelize the point cloud with a voxel size of 0.1\n",
      "Previous size: 30370, new size 1805\n",
      "Voxelize the point cloud with a voxel size of 0.1\n",
      "Previous size: 30089, new size 1859\n",
      "Voxelize the point cloud with a voxel size of 0.1\n",
      "Previous size: 19546, new size 1199\n",
      "Voxelize the point cloud with a voxel size of 0.1\n",
      "Previous size: 23556, new size 1426\n",
      "Voxelize the point cloud with a voxel size of 0.1\n",
      "Previous size: 35119, new size 4228\n",
      "Voxelize the point cloud with a voxel size of 0.1\n",
      "Previous size: 37833, new size 3653\n",
      "Voxelize the point cloud with a voxel size of 0.1\n",
      "Previous size: 39887, new size 2673\n",
      "Voxelize the point cloud with a voxel size of 0.1\n",
      "Previous size: 16144, new size 2049\n",
      "Voxelize the point cloud with a voxel size of 0.1\n",
      "Previous size: 57688, new size 3039\n",
      "Voxelize the point cloud with a voxel size of 0.1\n",
      "Previous size: 25136, new size 3996\n",
      "Voxelize the point cloud with a voxel size of 0.1\n",
      "Previous size: 45020, new size 4838\n",
      "Voxelize the point cloud with a voxel size of 0.1\n",
      "Previous size: 11397, new size 1515\n",
      "Voxelize the point cloud with a voxel size of 0.1\n",
      "Previous size: 72275, new size 5691\n",
      "Voxelize the point cloud with a voxel size of 0.1\n",
      "Previous size: 32165, new size 2671\n",
      "Voxelize the point cloud with a voxel size of 0.1\n",
      "Previous size: 11178, new size 1040\n",
      "Voxelize the point cloud with a voxel size of 0.1\n",
      "Previous size: 24226, new size 1875\n",
      "Voxelize the point cloud with a voxel size of 0.1\n",
      "Previous size: 10772, new size 889\n",
      "Voxelize the point cloud with a voxel size of 0.1\n",
      "Previous size: 14560, new size 1189\n",
      "Voxelize the point cloud with a voxel size of 0.1\n",
      "Previous size: 12411, new size 1185\n",
      "Voxelize the point cloud with a voxel size of 0.1\n",
      "Previous size: 20944, new size 1140\n",
      "Voxelize the point cloud with a voxel size of 0.1\n",
      "Previous size: 13597, new size 808\n",
      "Voxelize the point cloud with a voxel size of 0.1\n",
      "Previous size: 32636, new size 1934\n"
     ]
    }
   ],
   "source": [
    "savedir = \"../data/trees/biomass-trees\"\n",
    "\n",
    "for idx, (mass, sample) in enumerate(zip(biomass, samples_list)):\n",
    "    path = os.path.join(savedir, str(idx) + \".npy\")\n",
    "    #if os.path.exists(path):\n",
    "    #    continue\n",
    "    pt = np.loadtxt(sample)\n",
    "    pt = voxelize(pt)\n",
    "    \n",
    "    np.save(path, (mass, pt))\n",
    "    #print(idx, \"done\")"
   ]
  },
  {
   "cell_type": "markdown",
   "metadata": {},
   "source": [
    "# explore simple methods for prediction"
   ]
  },
  {
   "cell_type": "code",
   "execution_count": 6,
   "metadata": {},
   "outputs": [
    {
     "name": "stderr",
     "output_type": "stream",
     "text": [
      "/user/jschnei2/miniconda3/envs/pointmae/lib/python3.7/site-packages/torch/nn/modules/loss.py:520: UserWarning: Using a target size (torch.Size([100])) that is different to the input size (torch.Size([])). This will likely lead to incorrect results due to broadcasting. Please ensure they have the same size.\n",
      "  return F.mse_loss(input, target, reduction=self.reduction)\n"
     ]
    },
    {
     "data": {
      "text/plain": [
       "tensor(1.0000, dtype=torch.float64)"
      ]
     },
     "execution_count": 6,
     "metadata": {},
     "output_type": "execute_result"
    }
   ],
   "source": [
    "import torch\n",
    "loss = torch.nn.MSELoss()\n",
    "prediction = biomass.mean()\n",
    "loss(torch.tensor(prediction), torch.tensor(biomass))\n"
   ]
  },
  {
   "cell_type": "code",
   "execution_count": 7,
   "metadata": {},
   "outputs": [
    {
     "name": "stdout",
     "output_type": "stream",
     "text": [
      "/srv/user/jschnei2/backup\n"
     ]
    }
   ],
   "source": [
    "%cd ..\n"
   ]
  },
  {
   "cell_type": "code",
   "execution_count": 8,
   "metadata": {},
   "outputs": [
    {
     "name": "stderr",
     "output_type": "stream",
     "text": [
      "INFO - 2022-11-14 10:30:10,573 - loader - Loading faiss with AVX2 support.\n",
      "INFO - 2022-11-14 10:30:10,601 - loader - Successfully loaded faiss with AVX2 support.\n"
     ]
    },
    {
     "name": "stdout",
     "output_type": "stream",
     "text": [
      "Copy the Config file from cfgs/regression/biomass_treeset.yaml to ./experiments/regression/biomass_treeset/default/config.yaml\n",
      "{'_base_': {'plot_folders': ['data/trees/biomass-trees'], 'target_type': 'biomass', 'seed': 0, 'train_ratio': 0.75, 'normalization': True, 'normalization_pars': [10, 10, 22.5], 'validate_samples': True, 'transformations': [], 'NAME': 'Cls_Treeset'}, 'others': {'subset': 'train', 'npoints': 2048}}\n"
     ]
    }
   ],
   "source": [
    "import utils.parser as parser\n",
    "from utils.config import *\n",
    "import tools.builder as builder\n",
    "\n",
    "argv = [\"--config\", \"cfgs/regression/biomass_treeset.yaml\"]\n",
    "args = parser.get_args(argv)\n",
    "config = get_config(args)\n",
    "args.distributed = False\n",
    "print(config.dataset.train)\n",
    "config.dataset.train.others.bs = 1\n",
    "config.dataset.test.others.bs = 1\n",
    "config.dataset.test.others.model = config.model\n",
    "config.dataset.train.others.model = config.model"
   ]
  },
  {
   "cell_type": "code",
   "execution_count": 9,
   "metadata": {},
   "outputs": [
    {
     "name": "stderr",
     "output_type": "stream",
     "text": [
      "2022-11-14 10:30:12,279 - transfer_treesettrain - INFO - SHUFFLED THE DATA\n",
      "2022-11-14 10:30:12,405 - transfer_treesettest - INFO - SHUFFLED THE DATA\n"
     ]
    },
    {
     "name": "stdout",
     "output_type": "stream",
     "text": [
      "3 has length 1199\n",
      "4 has length 1706\n",
      "6 has length 1418\n",
      "15 has length 1189\n",
      "16 has length 1140\n",
      "20 has length 1860\n",
      "27 has length 808\n",
      "39 has length 1515\n",
      "42 has length 1934\n",
      "52 has length 1859\n",
      "59 has length 1426\n",
      "67 has length 1040\n",
      "69 has length 1793\n",
      "70 has length 889\n",
      "72 has length 1185\n",
      "use biomass transforms\n",
      "6 has length 542\n",
      "9 has length 1805\n",
      "18 has length 1875\n",
      "use biomass transforms\n"
     ]
    }
   ],
   "source": [
    "_, loader = builder.dataset_builder(args, config.dataset.train)\n",
    "trainset = loader.dataset\n",
    "_, loader = builder.dataset_builder(args, config.dataset.test)\n",
    "testset = loader.dataset\n",
    "testset.normalization=False"
   ]
  },
  {
   "cell_type": "code",
   "execution_count": 10,
   "metadata": {},
   "outputs": [],
   "source": [
    "import numpy as np\n",
    "from sklearn.linear_model import LinearRegression\n",
    "from torchvision import transforms"
   ]
  },
  {
   "cell_type": "code",
   "execution_count": 11,
   "metadata": {},
   "outputs": [],
   "source": [
    "trainset.transforms = transforms.Compose([])\n",
    "trainset.token_transforms = transforms.Compose([])\n",
    "trainset.normalization = True\n",
    "testset.normalization = True"
   ]
  },
  {
   "cell_type": "code",
   "execution_count": 12,
   "metadata": {},
   "outputs": [
    {
     "name": "stdout",
     "output_type": "stream",
     "text": [
      "(75,)\n"
     ]
    }
   ],
   "source": [
    "feat = np.empty((len(trainset), 3))\n",
    "y = np.empty(len(trainset))\n",
    "print(y.shape)\n",
    "for i, (neighborhood, center, target) in enumerate(trainset):\n",
    "    points, target = center.numpy(), target.numpy()\n",
    "    ptcloud = neighborhood.reshape(-1, 3).T\n",
    "    x, ys, z = ptcloud.numpy()\n",
    "    feat[i, 0:3]  = np.ptp(x), np.ptp(ys) , np.ptp(z)\n",
    "    y[i] = target"
   ]
  },
  {
   "cell_type": "code",
   "execution_count": 13,
   "metadata": {},
   "outputs": [
    {
     "data": {
      "text/plain": [
       "0.7506845724269461"
      ]
     },
     "execution_count": 13,
     "metadata": {},
     "output_type": "execute_result"
    }
   ],
   "source": [
    "reg = LinearRegression().fit(feat, y)\n",
    "reg.score(feat, y)"
   ]
  },
  {
   "cell_type": "code",
   "execution_count": 14,
   "metadata": {},
   "outputs": [],
   "source": [
    "feattest = np.empty((len(testset), 3))\n",
    "ytest = np.empty(len(testset))\n",
    "for i, (neighborhood, center, target) in enumerate(testset):\n",
    "    points, target = center.numpy(), target.numpy()\n",
    "    ptcloud = neighborhood.reshape(-1, 3).T\n",
    "    x, ys, z = ptcloud.numpy()\n",
    "    feattest[i, 0:3] = np.ptp(x), np.ptp(ys) , np.ptp(z)\n",
    "    ytest[i] = target\n"
   ]
  },
  {
   "cell_type": "code",
   "execution_count": 15,
   "metadata": {},
   "outputs": [
    {
     "data": {
      "text/plain": [
       "0.4232510681377567"
      ]
     },
     "execution_count": 15,
     "metadata": {},
     "output_type": "execute_result"
    }
   ],
   "source": [
    "prediction = reg.predict(feattest)\n",
    "np.mean((prediction -ytest)**2)"
   ]
  },
  {
   "cell_type": "markdown",
   "metadata": {},
   "source": [
    "# Scale up predictions to original scale"
   ]
  },
  {
   "cell_type": "code",
   "execution_count": 16,
   "metadata": {},
   "outputs": [
    {
     "data": {
      "text/plain": [
       "array([ 0.58632803,  1.76192915,  1.00357962,  1.4462682 ,  0.59812915,\n",
       "       -1.85981882, -1.29188073,  0.02635864,  0.82235909, -1.7127794 ,\n",
       "        1.2284025 , -1.46631074,  0.51035988,  0.30696592,  0.60433406,\n",
       "        0.76335442,  0.67304122,  0.86130214,  0.11215951, -1.13843131,\n",
       "        0.50172335,  0.21129139, -0.57707369,  0.98194301,  0.56444448])"
      ]
     },
     "execution_count": 16,
     "metadata": {},
     "output_type": "execute_result"
    }
   ],
   "source": [
    "ytest"
   ]
  },
  {
   "cell_type": "code",
   "execution_count": 17,
   "metadata": {},
   "outputs": [
    {
     "name": "stdout",
     "output_type": "stream",
     "text": [
      "tensor(0.1523, dtype=torch.float64)\n"
     ]
    },
    {
     "data": {
      "text/plain": [
       "array([1.28921355e-02, 2.66915974e-01, 2.42639784e-02, 9.94673874e-02,\n",
       "       5.27544091e-02, 2.26079492e-01, 5.08835294e-04, 1.18464075e-02,\n",
       "       2.80677189e-02, 1.52340911e-01, 2.04206935e-03, 5.36849191e-02,\n",
       "       2.43632109e-02, 6.81614887e-02, 7.81596274e-03, 3.06121965e-02,\n",
       "       8.43986873e-03, 9.66151389e-02, 1.82167785e+00, 6.29553715e-02,\n",
       "       3.57755489e-05, 2.38715167e-01, 4.68705983e-01, 3.82846064e-02,\n",
       "       1.04946069e-02])"
      ]
     },
     "execution_count": 17,
     "metadata": {},
     "output_type": "execute_result"
    }
   ],
   "source": [
    "predictions = np.load(\"experiments/regression/biomass_treeset/onlycenterfps/bestresultsforregression/predictions.npy\").reshape(-1)\n",
    "print(loss(torch.tensor(predictions), torch.tensor(ytest)))\n",
    "\n",
    "res = (predictions - ytest)**2\n",
    "res"
   ]
  },
  {
   "cell_type": "code",
   "execution_count": 18,
   "metadata": {},
   "outputs": [
    {
     "data": {
      "text/plain": [
       "0.15230965863731966"
      ]
     },
     "execution_count": 18,
     "metadata": {},
     "output_type": "execute_result"
    }
   ],
   "source": [
    "np.sum(res) /len(res)"
   ]
  },
  {
   "cell_type": "code",
   "execution_count": 61,
   "metadata": {},
   "outputs": [
    {
     "data": {
      "image/png": "[encoded data removed]",
      "text/plain": [
       "<Figure size 640x480 with 1 Axes>"
      ]
     },
     "metadata": {},
     "output_type": "display_data"
    }
   ],
   "source": [
    "plt.scatter(ytest, predictions)\n",
    "plt.xlabel(\"normalized log tree volume\")\n",
    "plt.xlim(-2, 1.7)\n",
    "plt.ylim(-2, 1.7)\n",
    "plt.ylabel(\"predicted  normalized log tree volume\")\n",
    "x1, y1 = [-2, 1.7], [-2, 1.7]\n",
    "plt.plot(x1, y1, \"--\")\n",
    "plt.savefig(fname=\"custom/plot/log_predvsactual.svg\",format=\"svg\", bbox_inches=\"tight\")"
   ]
  },
  {
   "cell_type": "code",
   "execution_count": 52,
   "metadata": {},
   "outputs": [],
   "source": [
    "import numpy as np\n",
    "import pandas as pd\n",
    "import os   \n",
    "import open3d as o3d\n",
    "import re"
   ]
  },
  {
   "cell_type": "code",
   "execution_count": 53,
   "metadata": {},
   "outputs": [],
   "source": [
    "biomass = np.load(\"../data/biomass/biomass.npy\")\n",
    "biomass = np.log(biomass)\n",
    "mean = biomass.mean()\n",
    "std = biomass.std()\n",
    "#biomass = (biomass - biomass.mean()) / biomass.std()"
   ]
  },
  {
   "cell_type": "code",
   "execution_count": 54,
   "metadata": {},
   "outputs": [],
   "source": [
    "#rescale predictions and values to original scale\n",
    "pred = np.exp(predictions * std_logmass + mean_logmass)\n",
    "target = np.exp(ytest * std_logmass + mean_logmass)"
   ]
  },
  {
   "cell_type": "code",
   "execution_count": 62,
   "metadata": {},
   "outputs": [
    {
     "data": {
      "image/png": "[encoded data removed]",
      "text/plain": [
       "<Figure size 640x480 with 1 Axes>"
      ]
     },
     "metadata": {},
     "output_type": "display_data"
    }
   ],
   "source": [
    "plt.scatter((target), (pred))\n",
    "plt.xlabel(\"tree volume\")\n",
    "plt.ylabel(\"predicted tree volume\")\n",
    "plt.xlim(-1, 20)\n",
    "plt.ylim(-1, 20)\n",
    "x1, y1 = [-1, 20], [-1, 20]\n",
    "plt.plot(x1, y1, \"--\")\n",
    "plt.savefig(fname=\"custom/plot/predvsactual.svg\",format=\"svg\", bbox_inches=\"tight\")"
   ]
  },
  {
   "cell_type": "code",
   "execution_count": 110,
   "metadata": {},
   "outputs": [
    {
     "data": {
      "text/plain": [
       "tensor(6.8157, dtype=torch.float64)"
      ]
     },
     "execution_count": 110,
     "metadata": {},
     "output_type": "execute_result"
    }
   ],
   "source": [
    "loss(torch.tensor(pred), torch.tensor(target))"
   ]
  },
  {
   "cell_type": "code",
   "execution_count": 111,
   "metadata": {},
   "outputs": [
    {
     "data": {
      "text/plain": [
       "array([1.81413321e-01, 1.33403292e+02, 1.42296696e+00, 2.19436504e+01,\n",
       "       1.45095524e+00, 1.47116360e-03, 9.81153179e-06, 3.31936866e-02,\n",
       "       8.40867888e-01, 1.41508037e-03, 3.83404456e-01, 8.85857495e-04,\n",
       "       2.42427334e-01, 6.99193661e-01, 1.68468822e-01, 7.32449688e-01,\n",
       "       1.68454042e-01, 2.62113265e+00, 8.04067039e-01, 1.42170546e-03,\n",
       "       4.58819126e-04, 2.73497906e+00, 4.76890156e-01, 1.94071341e+00,\n",
       "       1.39163754e-01])"
      ]
     },
     "execution_count": 111,
     "metadata": {},
     "output_type": "execute_result"
    }
   ],
   "source": [
    "res = (pred - target)**2\n",
    "res"
   ]
  },
  {
   "cell_type": "code",
   "execution_count": 112,
   "metadata": {},
   "outputs": [
    {
     "data": {
      "text/plain": [
       "(array([23,  1,  0,  0,  0,  0,  0,  0,  0,  1]),\n",
       " array([9.81153179e-06, 1.33403380e+01, 2.66806662e+01, 4.00209944e+01,\n",
       "        5.33613226e+01, 6.67016509e+01, 8.00419791e+01, 9.33823073e+01,\n",
       "        1.06722635e+02, 1.20062964e+02, 1.33403292e+02]))"
      ]
     },
     "execution_count": 112,
     "metadata": {},
     "output_type": "execute_result"
    }
   ],
   "source": [
    "np.histogram(res)"
   ]
  },
  {
   "cell_type": "code",
   "execution_count": 113,
   "metadata": {},
   "outputs": [
    {
     "data": {
      "text/plain": [
       "0.6541914614765237"
      ]
     },
     "execution_count": 113,
     "metadata": {},
     "output_type": "execute_result"
    }
   ],
   "source": [
    "np.mean(np.sort(res)[:-2])"
   ]
  },
  {
   "cell_type": "code",
   "execution_count": 122,
   "metadata": {},
   "outputs": [],
   "source": [
    "np.set_printoptions(precision=3, suppress=True)"
   ]
  },
  {
   "cell_type": "code",
   "execution_count": 130,
   "metadata": {},
   "outputs": [
    {
     "data": {
      "text/plain": [
       "0.12046766760630628"
      ]
     },
     "execution_count": 130,
     "metadata": {},
     "output_type": "execute_result"
    }
   ],
   "source": [
    "np.median(res/ target)"
   ]
  },
  {
   "cell_type": "code",
   "execution_count": 116,
   "metadata": {},
   "outputs": [
    {
     "data": {
      "text/plain": [
       "0.6968943868850022"
      ]
     },
     "execution_count": 116,
     "metadata": {},
     "output_type": "execute_result"
    }
   ],
   "source": [
    "np.mean(res / target)"
   ]
  },
  {
   "cell_type": "code",
   "execution_count": 132,
   "metadata": {},
   "outputs": [
    {
     "data": {
      "text/plain": [
       "array([0.052, 0.038, 0.015, 0.   , 0.014, 1.674, 0.039, 0.817, 2.327,\n",
       "       0.501, 0.   , 0.12 , 0.063, 0.079, 0.616, 0.071, 0.062, 0.231,\n",
       "       0.238, 0.693, 0.413, 0.291, 0.052, 2.027, 6.987])"
      ]
     },
     "execution_count": 132,
     "metadata": {},
     "output_type": "execute_result"
    }
   ],
   "source": [
    "(res/target)[np.argsort(target)]"
   ]
  },
  {
   "cell_type": "code",
   "execution_count": 43,
   "metadata": {},
   "outputs": [
    {
     "data": {
      "text/plain": [
       "array([ 0.07882001,  1.98138207,  0.057604  ,  0.036985  ,  0.10385801,\n",
       "        0.028394  ,  0.843012  ,  2.21787412,  2.69601503,  2.38275906,\n",
       "        2.30686496,  2.01238506,  7.31666211,  0.28491299,  1.39609199,\n",
       "        3.17126911,  0.983607  ,  3.5261451 ,  4.88411208,  2.35632796,\n",
       "        4.69778503,  3.78185116,  1.175486  , 10.82452029, 19.09222817])"
      ]
     },
     "execution_count": 43,
     "metadata": {},
     "output_type": "execute_result"
    }
   ],
   "source": [
    "target[np.argsort(res)]"
   ]
  },
  {
   "cell_type": "code",
   "execution_count": 79,
   "metadata": {},
   "outputs": [
    {
     "data": {
      "text/plain": [
       "array([ 1.9069917 ,  6.5983524 ,  2.6171563 ,  7.7356563 ,  1.7866728 ,\n",
       "        0.06616394,  0.07104474,  1.4559698 ,  2.3683872 ,  0.09319443,\n",
       "       10.262656  ,  0.17259091,  2.6687098 ,  2.0814598 ,  2.204807  ,\n",
       "        3.1815982 ,  2.4625578 ,  2.0148084 ,  0.29055193,  0.07013486,\n",
       "        2.067283  ,  3.8738859 ,  0.65549564,  3.2220562 ,  1.9471403 ],\n",
       "      dtype=float32)"
      ]
     },
     "execution_count": 79,
     "metadata": {},
     "output_type": "execute_result"
    }
   ],
   "source": [
    "pred"
   ]
  },
  {
   "cell_type": "code",
   "execution_count": 80,
   "metadata": {},
   "outputs": [
    {
     "data": {
      "text/plain": [
       "array([ 2.30686496, 19.09222817,  4.88411208, 10.82452029,  2.35632796,\n",
       "        0.028394  ,  0.07882001,  0.843012  ,  3.5261451 ,  0.036985  ,\n",
       "        7.31666211,  0.057604  ,  2.01238506,  1.39609199,  2.38275906,\n",
       "        3.17126911,  2.69601503,  3.78185116,  0.983607  ,  0.10385801,\n",
       "        1.98138207,  1.175486  ,  0.28491299,  4.69778503,  2.21787412])"
      ]
     },
     "execution_count": 80,
     "metadata": {},
     "output_type": "execute_result"
    }
   ],
   "source": [
    "target"
   ]
  },
  {
   "cell_type": "code",
   "execution_count": null,
   "metadata": {},
   "outputs": [],
   "source": []
  }
 ],
 "metadata": {
  "kernelspec": {
   "display_name": "Python 3.7.12 ('pointmae': conda)",
   "language": "python",
   "name": "python3"
  },
  "language_info": {
   "codemirror_mode": {
    "name": "ipython",
    "version": 3
   },
   "file_extension": ".py",
   "mimetype": "text/x-python",
   "name": "python",
   "nbconvert_exporter": "python",
   "pygments_lexer": "ipython3",
   "version": "3.7.13"
  },
  "orig_nbformat": 4,
  "vscode": {
   "interpreter": {
    "hash": "2c8a4ccd7c8b9a3d4af7060c69cfa16b451ab85bba45e86b03df6f484ab946ea"
   }
  }
 },
 "nbformat": 4,
 "nbformat_minor": 2
}
