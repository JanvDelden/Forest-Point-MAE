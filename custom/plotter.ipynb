{
 "cells": [
  {
   "cell_type": "markdown",
   "metadata": {},
   "source": [
    "# Visualize Pretraining Results"
   ]
  },
  {
   "cell_type": "code",
   "execution_count": null,
   "metadata": {},
   "outputs": [],
   "source": [
    "from plot import explore, patches_format\n",
    "import numpy as np\n",
    "import os\n",
    "import plotly.io as pio\n",
    "pio.renderers.default = \"browser\"\n",
    "#pio.renderers.default = \"jupyterlab\"\n",
    "import cv2\n",
    "import matplotlib.pyplot as plt"
   ]
  },
  {
   "cell_type": "code",
   "execution_count": null,
   "metadata": {},
   "outputs": [],
   "source": [
    "from mpl_toolkits.mplot3d import Axes3D\n",
    "\n",
    "def get_ptcloud_img(ptcloud,roll,pitch, ax):\n",
    "    x, y, z = ptcloud.transpose(1, 0)\n",
    "    ax.axis('off')\n",
    "    ax.set_box_aspect((np.ptp(x), np.ptp(y) , np.ptp(z)))     \n",
    "    ax.view_init(roll,pitch)\n",
    "    ax.scatter(x, y, z, zdir='z', s=0.05)\n",
    "\n",
    "    return ax\n",
    "\n",
    "def render_img(strig):\n",
    "    fig = plt.figure(figsize=(10,10), constrained_layout=True)\n",
    "    ax = plt.axes(projection=Axes3D.name)\n",
    "    ax = get_ptcloud_img(original.reshape(-1,3), roll=0, pitch=0, ax=ax)\n",
    "    plt.savefig(strig + \"org\" \".png\", bbox_inches=\"tight\", dpi=300, transparent=True)\n",
    "    fig = plt.figure(figsize=(10,10), constrained_layout=True)\n",
    "    ax = plt.axes(projection=Axes3D.name)\n",
    "    ax = get_ptcloud_img(visible.reshape(-1,3), roll=0, pitch=0, ax=ax)\n",
    "    plt.savefig(strig + \"vis\" \".png\", bbox_inches=\"tight\", dpi=300, transparent=True)\n",
    "    fig = plt.figure(figsize=(10,10), constrained_layout=True)\n",
    "    ax = plt.axes(projection=Axes3D.name)\n",
    "    ax = get_ptcloud_img(all_rebuilt.reshape(-1,3), roll=0, pitch=0, ax=ax)\n",
    "    plt.savefig(strig + \"all\" + \".png\", bbox_inches=\"tight\", dpi=300, transparent=True)\n",
    "\n",
    "\n",
    "def discrete_cmap(N, base_cmap=\"hsv\"):\n",
    "    \"\"\"Create an N-bin discrete colormap from the specified input map\"\"\"\n",
    "\n",
    "    # Note that if base_cmap is a string or None, you can simply do\n",
    "    #    return plt.cm.get_cmap(base_cmap, N)\n",
    "    # The following works for string, None, or a colormap instance:\n",
    "\n",
    "    base = plt.cm.get_cmap(base_cmap)\n",
    "    color_list = base(np.linspace(0, 1, N))\n",
    "    cmap_name = base.name + str(N)\n",
    "    return plt.cm.colors.ListedColormap(color_list, color_list, N)\n",
    "\n",
    "def class_sampling(cluster, num=300):\n",
    "    instances = np.unique(cluster[:,3])\n",
    "    ls = []\n",
    "    for instance in instances:\n",
    "        pc = cluster[cluster[:,3] == instance]\n",
    "        if len(pc) < num:\n",
    "            choice = np.random.choice(len(pc), num, replace=True)\n",
    "        else:\n",
    "            choice = np.random.choice(len(pc), num, replace=False)\n",
    "        ls.append(pc[choice])\n",
    "    return np.vstack(ls)\n",
    "\n",
    "def plt_offset(cluster, string): \n",
    "    fig = plt.figure(figsize=(5,5), constrained_layout=True)\n",
    "    ax = plt.axes()\n",
    "    sampled = class_sampling(cluster)\n",
    "    x, y, z, c = sampled.transpose(1, 0)\n",
    "    ax.axis('off')\n",
    "    vals = np.unique(c)\n",
    "    for i, val in enumerate(vals):\n",
    "        c[c==val] = i\n",
    "    ax.set_aspect('equal', adjustable='box')  \n",
    "    ax.scatter(x, y, s=0.5,c=c, cmap=\"Accent\")\n",
    "    plt.savefig(string +\".png\", bbox_inches=\"tight\", transparent=True, dpi=300)\n"
   ]
  },
  {
   "cell_type": "code",
   "execution_count": null,
   "metadata": {},
   "outputs": [],
   "source": [
    "for i in range(11):\n",
    "    string = f\"treestring_{i}\"\n",
    "    write = True\n",
    "    show = False\n",
    "    if write:\n",
    "        os.makedirs(f\"plot/{string}\", exist_ok=True)\n",
    "    original = np.load(f\"/user/jschnei2/backup/vis/{string}/full_original.npy\").astype(np.float16)\n",
    "    all_rebuilt = np.load(f\"/user/jschnei2/backup/vis/{string}/full_rebuilt.npy\").astype(np.float16)\n",
    "    only_rebuilt = np.load(f\"/user/jschnei2/backup/vis/{string}/only_rebuilt.npy\").astype(np.float16)\n",
    "    visible = np.load(f\"/user/jschnei2/backup/vis/{string}/full_visible.npy\").astype(np.float16)\n",
    "    masked_points = np.load(f\"/user/jschnei2/backup/vis/{string}/masked_points.npy\").astype(np.float16)\n",
    "    string = \"reconstruction_small/\" + string\n",
    "    explore(patches_format(original), write=write, i=f\"plot/{string}_original\", show=show)\n",
    "    explore(patches_format(all_rebuilt), write=write, i=f\"plot/{string}_all_rebuilt\", show=show)\n",
    "    explore(patches_format(visible), write=write, i=f\"plot/{string}_visible\",show=show)\n",
    "    explore(patches_format(only_rebuilt), write=write, i=f\"plot/{string}_only_rebuilt\", show=show)\n",
    "    explore(patches_format(masked_points), write=write, i=f\"plot/{string}_masked_points\", show=show)\n",
    "    render_img(f\"plot/{string}\")"
   ]
  },
  {
   "cell_type": "markdown",
   "metadata": {},
   "source": [
    "# look at offset clusters"
   ]
  },
  {
   "cell_type": "code",
   "execution_count": null,
   "metadata": {},
   "outputs": [],
   "source": [
    "for i in range(9):\n",
    "    string = f\"treestring_{i}\"\n",
    "    write = True\n",
    "    show = False\n",
    "    cluster = np.load(f\"/user/jschnei2/backup/vis/{string}/cluster.npy\")\n",
    "    points = np.load(f\"/user/jschnei2/backup/vis/{string}/points.npy\")\n",
    "    offset = np.load(f\"/user/jschnei2/backup/vis/{string}/offset.npy\")\n",
    "    true_offset = np.load(f\"/user/jschnei2/backup/vis/{string}/true_offset.npy\")\n",
    "    string = f\"plot/offset/treepoints_{i}\"\n",
    "    #if write:\n",
    "    #    os.makedirs(string, exist_ok=True)\n",
    "\n",
    "    #explore(cluster, write=write, i=string+\"cluster\", show=show)\n",
    "    #explore(points, write=write, i=string+\"points\", show=show)\n",
    "    plt_offset(cluster, string)\n",
    "    np.mean(np.abs(offset[:,:2] - true_offset[:,:2])) *3"
   ]
  },
  {
   "cell_type": "code",
   "execution_count": null,
   "metadata": {},
   "outputs": [],
   "source": [
    "from sklearn.cluster import DBSCAN \n",
    "clustering = DBSCAN(eps=0.15,min_samples=10).fit(cluster[:,:3])\n",
    "pred = np.hstack((cluster[:,:3], clustering.labels_[:,np.newaxis]+1))\n",
    "np.unique(pred[:,3])"
   ]
  },
  {
   "cell_type": "code",
   "execution_count": null,
   "metadata": {},
   "outputs": [],
   "source": [
    "np.unique(pred[:,3], return_counts=True)"
   ]
  },
  {
   "cell_type": "code",
   "execution_count": null,
   "metadata": {},
   "outputs": [],
   "source": [
    "np.unique(cluster[:,3], return_counts=True)"
   ]
  },
  {
   "cell_type": "code",
   "execution_count": null,
   "metadata": {},
   "outputs": [],
   "source": [
    "plt_offset(cluster, \"test\")\n",
    "plt_offset(pred, \"test\")\n"
   ]
  },
  {
   "cell_type": "code",
   "execution_count": null,
   "metadata": {},
   "outputs": [],
   "source": [
    "pointspred = np.hstack((points[:,:3], clustering.labels_[:,np.newaxis]+1))\n",
    "explore(pointspred)\n",
    " "
   ]
  },
  {
   "cell_type": "markdown",
   "metadata": {},
   "source": [
    "# additional function for pretraining evaluation"
   ]
  },
  {
   "cell_type": "code",
   "execution_count": null,
   "metadata": {},
   "outputs": [],
   "source": [
    "# only look at region of tokens\n",
    "label = 211\n",
    "data = masked_points\n",
    "G, N = data.shape[:2]\n",
    "centers = np.mean(data, axis=1)\n",
    "center_label =centers[label]\n",
    "filter = np.sqrt(np.sum((centers - center_label)**2, axis=1)) < 0.3\n",
    "data = patches_format(data).reshape(G, N, 4)[filter]\n",
    "data = data.reshape(-1, 4)\n",
    "explore(data, size_max=10)"
   ]
  },
  {
   "cell_type": "code",
   "execution_count": null,
   "metadata": {},
   "outputs": [],
   "source": [
    "from sklearn.neighbors import NearestNeighbors\n",
    "import matplotlib.pyplot as plt\n",
    "\n",
    "def process(ref, query, n_neighbors=32):\n",
    "    knn = NearestNeighbors(n_neighbors=1)\n",
    "    knn.fit(ref) \n",
    "    val, _ = knn.kneighbors(query, return_distance=True)\n",
    "    return val\n",
    "scaler = [10, 10, 22.5]\n",
    "dist1, dist2 = [], []\n",
    "for reb, mask in zip(only_rebuilt, masked_points):\n",
    "    reb = reb.copy()\n",
    "    mask = mask.copy()\n",
    "    reb += 1\n",
    "    mask += 1\n",
    "    reb = reb * scaler\n",
    "    mask = mask * scaler\n",
    "    dist1.append(process(reb, mask))\n",
    "    dist2.append(process(mask, reb))\n",
    "\n",
    "dist = np.array(dist1).reshape(-1) + np.array(dist2).reshape(-1)\n",
    "plt.hist(dist, bins=50)[2]\n",
    "np.mean(dist1 + dist2)"
   ]
  },
  {
   "cell_type": "markdown",
   "metadata": {},
   "source": [
    "# Classification evaluation\n",
    "Note that\n",
    "- Fichte: 0\n",
    "- Douglasie: 1 \n",
    "- Buche: 2\n",
    "- Esche: 3\n",
    "- Roteiche: 4"
   ]
  },
  {
   "cell_type": "code",
   "execution_count": null,
   "metadata": {},
   "outputs": [],
   "source": [
    "import numpy as np\n",
    "import sklearn.metrics as met\n",
    "import matplotlib.pyplot as plt\n",
    "preds = np.load(\"/user/jschnei2/backup/experiments/classification/cls_treeset_fewshot/5shot/both/predictions.npy\")\n",
    "labels = np.load(\"/user/jschnei2/backup/experiments/classification/cls_treeset_fewshot/5shot/both/labels.npy\")\n",
    "treenames = np.array([\"Spruce\", \"Doug. Fir\", \"Beech\", \"Red Oak\"])\n",
    "#treenames = np.array([\"Spruce\", \"Doug. Fir\", \"Beech\", \"Ash\", \"Red Oak\"])\n",
    "cf_matrix = met.confusion_matrix(labels, preds)\n",
    "cf_matrix_norm = met.confusion_matrix(labels, preds, normalize=\"true\")"
   ]
  },
  {
   "cell_type": "code",
   "execution_count": null,
   "metadata": {},
   "outputs": [],
   "source": [
    "import seaborn as sns\n",
    "def plot_cf(cf_matrix, path=\"output.svg\"):  \n",
    "    ax = sns.heatmap(cf_matrix, annot=True, cmap='Blues', cbar=False)\n",
    "\n",
    "    ax.set_title('Tree species classification\\n\\n')\n",
    "    ax.set_xlabel('\\nPredicted species')\n",
    "    ax.set_ylabel('Actual species')\n",
    "\n",
    "    ax.xaxis.set_ticklabels(treenames)\n",
    "    ax.yaxis.set_ticklabels(treenames)\n",
    "    plt.show()\n",
    "    fig = ax.get_figure()\n",
    "    fig.savefig(path, bbox_inches='tight', format=\"svg\", transparent=True)\n",
    "\n",
    "plot_cf(cf_matrix_norm, path=\"plot/cf_matrix_norm.svg\")"
   ]
  },
  {
   "cell_type": "code",
   "execution_count": null,
   "metadata": {},
   "outputs": [],
   "source": [
    "plot_cf(cf_matrix, path=\"plot/cf_matrix.svg\")"
   ]
  }
 ],
 "metadata": {
  "kernelspec": {
   "display_name": "Python 3.7.13 ('test': conda)",
   "language": "python",
   "name": "python3"
  },
  "language_info": {
   "codemirror_mode": {
    "name": "ipython",
    "version": 3
   },
   "file_extension": ".py",
   "mimetype": "text/x-python",
   "name": "python",
   "nbconvert_exporter": "python",
   "pygments_lexer": "ipython3",
   "version": "3.7.13"
  },
  "orig_nbformat": 4,
  "vscode": {
   "interpreter": {
    "hash": "debca9b7567c5491e706cab2361ce244b17a6026abfcd3a6107fad7ed71ceb13"
   }
  }
 },
 "nbformat": 4,
 "nbformat_minor": 2
}
