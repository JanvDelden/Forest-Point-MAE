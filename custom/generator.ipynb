{
 "cells": [
  {
   "cell_type": "code",
   "execution_count": null,
   "id": "269734de",
   "metadata": {},
   "outputs": [],
   "source": [
    "import sys\n",
    "import os \n",
    "import open3d as o3d\n",
    "%env CUDA_DEVICE_ORDER=PCI_BUS_ID\n",
    "%env CUDA_VISIBLE_DEVICES=0\n",
    "sys.path.append(os.path.join(os.getcwd(), \"..\"))\n",
    "%cd ..\n",
    "from generate import *\n",
    "from utils.config import cfg_from_yaml_file\n",
    "from joblib import Parallel, delayed\n",
    "    \n",
    "\n",
    "def remove_preexisting(sample_path):\n",
    "    if os.path.exists(sample_path):\n",
    "        [os.remove(os.path.join(sample_path, path)) for path in os.listdir(sample_path)]\n",
    "    if not os.path.exists(sample_path):\n",
    "        os.mkdir(sample_path)\n",
    "    plt.show()"
   ]
  },
  {
   "cell_type": "code",
   "execution_count": null,
   "id": "a554fab4-edbb-4199-8db2-fae90099e08a",
   "metadata": {},
   "outputs": [],
   "source": [
    "config = cfg_from_yaml_file(\"custom/generator_config.yaml\")\n",
    "print(config)\n",
    "forests = os.listdir(\"data/forest/original\")\n",
    "print(forests)"
   ]
  },
  {
   "cell_type": "code",
   "execution_count": null,
   "id": "b926bcc8",
   "metadata": {},
   "outputs": [],
   "source": [
    "N_SAMPLES = 100\n",
    "VERBOSE = True\n",
    "def process(forest, config):\n",
    "    config.plot_path = forest\n",
    "    config.sample_path = os.path.join(\"data/chunks/\",forest.split(\"/\")[-1])\n",
    "    #remove_preexisting(config.sample_path)\n",
    "    config.occupancy_path = os.path.join(\"data/forest/occupancy\", forest.split(\"/\")[-1])\n",
    "    generator = SampleGenerator(config)\n",
    "    generator.occupancy = generator.occupancy_grid()\n",
    "    vertices, boolean, rotations, centers, vertices_unrotated = generator.random_generate(N_SAMPLES)\n",
    "    if VERBOSE:\n",
    "        plotfn(vertices, boolean, generator)\n",
    "    samples, centers, rotations = generator.produce_samples_cuda(vertices[boolean], rotations[boolean], centers[boolean], vertices_unrotated[boolean])\n",
    "    paths = generator.save_samples(samples, centers, rotations)\n",
    "    print(len(paths), \"saved for forest\", forest)\n",
    "    #return samples, centers, rotations\n",
    "    return None"
   ]
  },
  {
   "cell_type": "code",
   "execution_count": null,
   "id": "c8849c25",
   "metadata": {},
   "outputs": [],
   "source": [
    "# for forest in forests:\n",
    "#     sample_path = os.path.join(\"data/chunks\", forest)\n",
    "#     if len(os.listdir(sample_path)) < 500:\n",
    "#         print(\"process \", forest)\n",
    "#         process(forest,config)"
   ]
  },
  {
   "cell_type": "code",
   "execution_count": null,
   "id": "42b0996e",
   "metadata": {},
   "outputs": [],
   "source": [
    "def filter_cloud(source, target):\n",
    "    points = np.load(source)\n",
    "    #print(len(points))\n",
    "    points, label = points[:, :3], points[:,3]\n",
    "    pcd = o3d.geometry.PointCloud()\n",
    "    pcd.points = o3d.utility.Vector3dVector(points)\n",
    "    \n",
    "    # filter out point\n",
    "    cl, ind = pcd.remove_statistical_outlier(nb_neighbors=2,  std_ratio=1)\n",
    "    pcd = pcd.select_by_index(ind)\n",
    "    mask = np.zeros(len(points),dtype=bool)\n",
    "    mask[ind] = True\n",
    "    points = points[mask]\n",
    "    label = label[mask]\n",
    "    #print(len(points))\n",
    "    cl, ind = pcd.remove_radius_outlier(nb_points=6, radius=0.2068)\n",
    "    pcd = pcd.select_by_index(ind)\n",
    "    mask = np.zeros(len(points),dtype=bool)\n",
    "    mask[ind] = True\n",
    "    points = points[mask]\n",
    "    #print(len(points))\n",
    "    points = np.hstack((points, label[mask][:, np.newaxis]))\n",
    "    np.save(target, points)\n",
    "    #print(target)\n",
    "      "
   ]
  },
  {
   "cell_type": "code",
   "execution_count": null,
   "id": "9a38c395",
   "metadata": {},
   "outputs": [],
   "source": [
    "for forest in forests:\n",
    "    save_path = os.path.join(\"data/chunks\", forest)\n",
    "    source_path = os.path.join(\"data/chunks_notfiltered\", forest)\n",
    "    existing_trees = os.listdir(source_path)\n",
    "    source_paths = [os.path.join(source_path, tree) for tree in existing_trees]\n",
    "    save_paths = [os.path.join(save_path, tree) for tree in existing_trees]\n",
    "    print(forest, len(save_paths))\n",
    "    Parallel(n_jobs=16, verbose=1)(delayed(filter_cloud)(source, target) for source, target in zip(source_paths, save_paths))"
   ]
  },
  {
   "cell_type": "code",
   "execution_count": null,
   "id": "52861645",
   "metadata": {},
   "outputs": [],
   "source": [
    "for forest in forests:\n",
    "    sample_path = os.path.join(\"data/chunks\", forest)\n",
    "    print(len(os.listdir(sample_path)))"
   ]
  },
  {
   "cell_type": "code",
   "execution_count": null,
   "id": "999a0bbd",
   "metadata": {},
   "outputs": [],
   "source": [
    "for forest in forests:\n",
    "    sample_path = os.path.join(\"data/chunks\", forest)\n",
    "    existing_trees = os.listdir(sample_path)\n",
    "    existing_trees = [tree if tree.split(\".\")[-1] == \"txt\" else None for tree in existing_trees]\n",
    "    existing_trees = np.array(existing_trees)\n",
    "    filtered = existing_trees[existing_trees != None]\n",
    "    target_paths = [os.path.join(sample_path, tree) for tree in filtered]\n",
    "    [os.remove(path) for path in target_paths]"
   ]
  }
 ],
 "metadata": {
  "kernelspec": {
   "display_name": "Python 3.7.13 ('test': conda)",
   "language": "python",
   "name": "python3"
  },
  "language_info": {
   "codemirror_mode": {
    "name": "ipython",
    "version": 3
   },
   "file_extension": ".py",
   "mimetype": "text/x-python",
   "name": "python",
   "nbconvert_exporter": "python",
   "pygments_lexer": "ipython3",
   "version": "3.7.13"
  },
  "vscode": {
   "interpreter": {
    "hash": "debca9b7567c5491e706cab2361ce244b17a6026abfcd3a6107fad7ed71ceb13"
   }
  }
 },
 "nbformat": 4,
 "nbformat_minor": 5
}
