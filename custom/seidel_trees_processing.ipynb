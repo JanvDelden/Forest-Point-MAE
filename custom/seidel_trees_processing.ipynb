{
 "cells": [
  {
   "cell_type": "code",
   "execution_count": null,
   "metadata": {},
   "outputs": [],
   "source": [
    "import numpy as np\n",
    "import pandas as pd\n",
    "import os   \n",
    "import open3d as o3d"
   ]
  },
  {
   "cell_type": "code",
   "execution_count": null,
   "metadata": {},
   "outputs": [],
   "source": [
    "dir = \"../data/trees/labeled_trees/seidel_direct/Trees_upload\"\n",
    "savedir = \"../data/trees/labeled_trees/\"\n",
    "samples_list = os.listdir(dir)\n",
    "samples_list = [(os.path.join(dir, sample), sample.split(\"_\")[0]) for sample in samples_list]"
   ]
  },
  {
   "cell_type": "code",
   "execution_count": null,
   "metadata": {},
   "outputs": [],
   "source": [
    "VAL=1000\n",
    "def voxelize(points, voxelsize=0.10):\n",
    "    pcd = o3d.geometry.PointCloud()\n",
    "    pcd.points = o3d.utility.Vector3dVector(points)\n",
    "    #print(f\"Voxelize the point cloud with a voxel size of {voxelsize}\")\n",
    "    min_bound, max_bound = np.array([-VAL, -VAL, -VAL]), np.array([VAL, VAL, VAL])\n",
    "    downpcd, _, idx = pcd.voxel_down_sample_and_trace(voxelsize, min_bound, max_bound)\n",
    "    print(f\"Previous size: {points.shape[0]}, new size {np.asarray(downpcd.points).shape[0]}\")\n",
    "    return np.array(downpcd.points)"
   ]
  },
  {
   "cell_type": "code",
   "execution_count": null,
   "metadata": {},
   "outputs": [],
   "source": [
    "savedir = \"../data/trees/seidel-trees\"\n",
    "\n",
    "for idx, (sample, cls) in enumerate(samples_list):\n",
    "    path = os.path.join(savedir, str(idx) + \".npy\")\n",
    "    if os.path.exists(path):\n",
    "        pass\n",
    "    pt = np.loadtxt(sample)\n",
    "    pt = voxelize(pt)\n",
    "    \n",
    "    np.save(path, (cls, pt))\n",
    "    #print(idx, \"done\")"
   ]
  },
  {
   "cell_type": "code",
   "execution_count": null,
   "metadata": {},
   "outputs": [],
   "source": [
    "samples_list = os.listdir(savedir)\n",
    "samples_list = [os.path.join(savedir, sample) for sample in samples_list]\n",
    "cls = []\n",
    "data = []\n",
    "for sample in samples_list:\n",
    "    s = np.load(sample, allow_pickle=True)\n",
    "    cls += [s[0]]\n",
    "    data += [s[1]]"
   ]
  },
  {
   "cell_type": "code",
   "execution_count": null,
   "metadata": {},
   "outputs": [],
   "source": [
    "df = pd.DataFrame({\"cls\": np.array(cls), \"coordinates\": np.array(data)})\n",
    "filter = df.cls.value_counts() > 10\n",
    "df = df[df.cls.isin(filter.index[filter])]"
   ]
  },
  {
   "cell_type": "code",
   "execution_count": null,
   "metadata": {},
   "outputs": [],
   "source": [
    "entries = np.stack((df.cls.unique(), np.arange(len(df.cls.unique()))), axis=1)\n",
    "dictionary = dict(entries)\n",
    "df.loc[:, \"cls\"] = df.cls.replace(dictionary)"
   ]
  },
  {
   "cell_type": "code",
   "execution_count": null,
   "metadata": {},
   "outputs": [],
   "source": [
    "savedir = \"../data/trees/seidel-trees2\"\n",
    "for idx, row in df.iterrows():\n",
    "    path = os.path.join(savedir, str(idx) + \".npy\")\n",
    "    cls, points = row[\"cls\"], row[\"coordinates\"]\n",
    "    np.save(path, (cls, points))"
   ]
  },
  {
   "cell_type": "markdown",
   "metadata": {},
   "source": [
    "# further work with already saved trees"
   ]
  },
  {
   "cell_type": "code",
   "execution_count": null,
   "metadata": {},
   "outputs": [],
   "source": [
    "import os \n",
    "import numpy as np\n",
    "import pandas as pd\n",
    "\n",
    "savedir = \"../data/trees/seidel-trees2\"\n",
    "trees = [np.load(os.path.join(savedir, path), allow_pickle=True) for path in os.listdir(savedir)]\n",
    "df = pd.DataFrame(np.array(trees), columns=[\"cls\", \"pc\"])\n",
    "df = df[df.cls !=3]\n",
    "cls = df.cls.unique()"
   ]
  },
  {
   "cell_type": "code",
   "execution_count": null,
   "metadata": {},
   "outputs": [],
   "source": [
    "shot = 5\n",
    "eval = 20\n",
    "sample_numbers = 5\n",
    "train_idx = np.empty((sample_numbers, len(cls), shot))\n",
    "eval_idx = np.empty((sample_numbers, len(cls), eval))\n",
    "for s_id in range(sample_numbers):\n",
    "    for i, cl in enumerate(cls):\n",
    "        subset = df[df.cls == cl]\n",
    "        sample = subset.sample(n=shot + eval)\n",
    "        train_sample =  sample.index[0:shot]\n",
    "        eval_sample = sample.index[shot:]\n",
    "        train_idx[s_id, i] = train_sample\n",
    "        eval_idx[s_id, i] = eval_sample"
   ]
  },
  {
   "cell_type": "code",
   "execution_count": null,
   "metadata": {},
   "outputs": [],
   "source": [
    "path = \"/user/jschnei2/data/few_shot/\"\n",
    "np.save(path + \"train_idx.npy\", train_idx.astype(int))\n",
    "np.save(path + \"eval_idx.npy\", eval_idx.astype(int))"
   ]
  }
 ],
 "metadata": {
  "kernelspec": {
   "display_name": "Python 3.7.12 ('pointmae': conda)",
   "language": "python",
   "name": "python3"
  },
  "language_info": {
   "codemirror_mode": {
    "name": "ipython",
    "version": 3
   },
   "file_extension": ".py",
   "mimetype": "text/x-python",
   "name": "python",
   "nbconvert_exporter": "python",
   "pygments_lexer": "ipython3",
   "version": "3.7.13"
  },
  "orig_nbformat": 4,
  "vscode": {
   "interpreter": {
    "hash": "2c8a4ccd7c8b9a3d4af7060c69cfa16b451ab85bba45e86b03df6f484ab946ea"
   }
  }
 },
 "nbformat": 4,
 "nbformat_minor": 2
}
